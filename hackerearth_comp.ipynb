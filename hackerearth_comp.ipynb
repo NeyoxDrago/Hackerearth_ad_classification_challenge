{
  "nbformat": 4,
  "nbformat_minor": 0,
  "metadata": {
    "colab": {
      "name": "hackerearth_comp.ipynb",
      "provenance": [],
      "collapsed_sections": [
        "g_F-mqY4rtc8"
      ],
      "toc_visible": true
    },
    "kernelspec": {
      "name": "python3",
      "display_name": "Python 3"
    },
    "accelerator": "GPU"
  },
  "cells": [
    {
      "cell_type": "code",
      "metadata": {
        "id": "uQMNr0W9p1NK",
        "colab_type": "code",
        "outputId": "0014b9ba-80a9-4c7a-befd-fd1461ce65e7",
        "colab": {
          "base_uri": "https://localhost:8080/",
          "height": 101
        }
      },
      "source": [
        "!unzip ef8eb660168111ea.zip"
      ],
      "execution_count": 0,
      "outputs": [
        {
          "output_type": "stream",
          "text": [
            "Archive:  ef8eb660168111ea.zip\n",
            "   creating: Dataset/\n",
            "  inflating: Dataset/Train.csv       \n",
            "  inflating: Dataset/sample_submission.csv  \n",
            "  inflating: Dataset/Test.csv        \n"
          ],
          "name": "stdout"
        }
      ]
    },
    {
      "cell_type": "code",
      "metadata": {
        "id": "UluLwa13qGEk",
        "colab_type": "code",
        "colab": {}
      },
      "source": [
        "import pandas as pd"
      ],
      "execution_count": 0,
      "outputs": []
    },
    {
      "cell_type": "code",
      "metadata": {
        "id": "ggjISwPOqIMy",
        "colab_type": "code",
        "colab": {}
      },
      "source": [
        "data = pd.read_csv(\"Dataset/Train.csv\")"
      ],
      "execution_count": 0,
      "outputs": []
    },
    {
      "cell_type": "code",
      "metadata": {
        "id": "JeeRQc-asJcw",
        "colab_type": "code",
        "outputId": "2e14b665-27ed-4ab7-ad87-427e8dbe4dd6",
        "colab": {
          "base_uri": "https://localhost:8080/",
          "height": 215
        }
      },
      "source": [
        "data.head()"
      ],
      "execution_count": 0,
      "outputs": [
        {
          "output_type": "execute_result",
          "data": {
            "text/html": [
              "<div>\n",
              "<style scoped>\n",
              "    .dataframe tbody tr th:only-of-type {\n",
              "        vertical-align: middle;\n",
              "    }\n",
              "\n",
              "    .dataframe tbody tr th {\n",
              "        vertical-align: top;\n",
              "    }\n",
              "\n",
              "    .dataframe thead th {\n",
              "        text-align: right;\n",
              "    }\n",
              "</style>\n",
              "<table border=\"1\" class=\"dataframe\">\n",
              "  <thead>\n",
              "    <tr style=\"text-align: right;\">\n",
              "      <th></th>\n",
              "      <th>id</th>\n",
              "      <th>realtionship_status</th>\n",
              "      <th>industry</th>\n",
              "      <th>genre</th>\n",
              "      <th>targeted_sex</th>\n",
              "      <th>average_runtime(minutes_per_week)</th>\n",
              "      <th>airtime</th>\n",
              "      <th>airlocation</th>\n",
              "      <th>ratings</th>\n",
              "      <th>expensive</th>\n",
              "      <th>money_back_guarantee</th>\n",
              "      <th>netgain</th>\n",
              "    </tr>\n",
              "  </thead>\n",
              "  <tbody>\n",
              "    <tr>\n",
              "      <th>0</th>\n",
              "      <td>19717</td>\n",
              "      <td>Married-spouse-absent</td>\n",
              "      <td>Auto</td>\n",
              "      <td>Comedy</td>\n",
              "      <td>Male</td>\n",
              "      <td>45</td>\n",
              "      <td>Primetime</td>\n",
              "      <td>United-States</td>\n",
              "      <td>0.027465</td>\n",
              "      <td>High</td>\n",
              "      <td>No</td>\n",
              "      <td>False</td>\n",
              "    </tr>\n",
              "    <tr>\n",
              "      <th>1</th>\n",
              "      <td>31593</td>\n",
              "      <td>Married-civ-spouse</td>\n",
              "      <td>Pharma</td>\n",
              "      <td>Comedy</td>\n",
              "      <td>Male</td>\n",
              "      <td>45</td>\n",
              "      <td>Primetime</td>\n",
              "      <td>United-States</td>\n",
              "      <td>0.027465</td>\n",
              "      <td>Low</td>\n",
              "      <td>No</td>\n",
              "      <td>False</td>\n",
              "    </tr>\n",
              "    <tr>\n",
              "      <th>2</th>\n",
              "      <td>5681</td>\n",
              "      <td>Divorced</td>\n",
              "      <td>Entertainment</td>\n",
              "      <td>Comedy</td>\n",
              "      <td>Female</td>\n",
              "      <td>45</td>\n",
              "      <td>Primetime</td>\n",
              "      <td>United-States</td>\n",
              "      <td>0.027465</td>\n",
              "      <td>High</td>\n",
              "      <td>Yes</td>\n",
              "      <td>False</td>\n",
              "    </tr>\n",
              "    <tr>\n",
              "      <th>3</th>\n",
              "      <td>15491</td>\n",
              "      <td>Separated</td>\n",
              "      <td>Political</td>\n",
              "      <td>Infomercial</td>\n",
              "      <td>Female</td>\n",
              "      <td>40</td>\n",
              "      <td>Primetime</td>\n",
              "      <td>United-States</td>\n",
              "      <td>0.027465</td>\n",
              "      <td>Low</td>\n",
              "      <td>No</td>\n",
              "      <td>False</td>\n",
              "    </tr>\n",
              "    <tr>\n",
              "      <th>4</th>\n",
              "      <td>23587</td>\n",
              "      <td>Married-civ-spouse</td>\n",
              "      <td>Pharma</td>\n",
              "      <td>Comedy</td>\n",
              "      <td>Male</td>\n",
              "      <td>48</td>\n",
              "      <td>Primetime</td>\n",
              "      <td>United-States</td>\n",
              "      <td>0.027465</td>\n",
              "      <td>High</td>\n",
              "      <td>No</td>\n",
              "      <td>True</td>\n",
              "    </tr>\n",
              "  </tbody>\n",
              "</table>\n",
              "</div>"
            ],
            "text/plain": [
              "      id    realtionship_status  ... money_back_guarantee netgain\n",
              "0  19717  Married-spouse-absent  ...                   No   False\n",
              "1  31593     Married-civ-spouse  ...                   No   False\n",
              "2   5681               Divorced  ...                  Yes   False\n",
              "3  15491              Separated  ...                   No   False\n",
              "4  23587     Married-civ-spouse  ...                   No    True\n",
              "\n",
              "[5 rows x 12 columns]"
            ]
          },
          "metadata": {
            "tags": []
          },
          "execution_count": 4
        }
      ]
    },
    {
      "cell_type": "code",
      "metadata": {
        "id": "mfe6d_h_qVKK",
        "colab_type": "code",
        "colab": {}
      },
      "source": [
        "relationship_status = dict((w,i) for i,w in enumerate(set(data.realtionship_status)))\n",
        "industry = dict((w,i) for i,w in enumerate(set(data.industry)))\n",
        "genre = dict((w,i) for i,w in enumerate(set(data.genre)))\n",
        "targeted_sex = dict((w,i) for i,w in enumerate(set(data.targeted_sex)))\n",
        "airtime = dict((w,i) for i,w in enumerate(set(data.airtime)))\n",
        "airlocation = dict((w,i) for i,w in enumerate(set(data.airlocation)))\n",
        "expensive = dict((w,i) for i,w in enumerate(set(data.expensive)))\n",
        "money_back_gurantee = dict((w,i) for i,w in enumerate(set(data.money_back_guarantee)))\n",
        "netgain = dict((w,i) for i,w in enumerate(set(data.netgain)))\n",
        "netgain_rev = dict((i,w) for i,w in enumerate(set(data.netgain)))"
      ],
      "execution_count": 0,
      "outputs": []
    },
    {
      "cell_type": "code",
      "metadata": {
        "id": "W_y5swvgqyF7",
        "colab_type": "code",
        "colab": {}
      },
      "source": [
        "data.realtionship_status = data.realtionship_status.map(relationship_status)\n",
        "data.industry = data.industry.map(industry)\n",
        "data.genre = data.genre.map(genre)\n",
        "data.targeted_sex = data.targeted_sex.map(targeted_sex)\n",
        "data.airtime = data.airtime.map(airtime)\n",
        "data.airlocation = data.airlocation.map(airlocation)\n",
        "data.expensive = data.expensive.map(expensive)\n",
        "data.money_back_guarantee = data.money_back_guarantee.map(money_back_gurantee)\n",
        "data.netgain = data.netgain.map(netgain)"
      ],
      "execution_count": 0,
      "outputs": []
    },
    {
      "cell_type": "code",
      "metadata": {
        "id": "_Eekt4Gzq5fU",
        "colab_type": "code",
        "outputId": "473490bd-f486-425a-99a4-d84bfa7df4c0",
        "colab": {
          "base_uri": "https://localhost:8080/",
          "height": 422
        }
      },
      "source": [
        "data"
      ],
      "execution_count": 0,
      "outputs": [
        {
          "output_type": "execute_result",
          "data": {
            "text/html": [
              "<div>\n",
              "<style scoped>\n",
              "    .dataframe tbody tr th:only-of-type {\n",
              "        vertical-align: middle;\n",
              "    }\n",
              "\n",
              "    .dataframe tbody tr th {\n",
              "        vertical-align: top;\n",
              "    }\n",
              "\n",
              "    .dataframe thead th {\n",
              "        text-align: right;\n",
              "    }\n",
              "</style>\n",
              "<table border=\"1\" class=\"dataframe\">\n",
              "  <thead>\n",
              "    <tr style=\"text-align: right;\">\n",
              "      <th></th>\n",
              "      <th>id</th>\n",
              "      <th>realtionship_status</th>\n",
              "      <th>industry</th>\n",
              "      <th>genre</th>\n",
              "      <th>targeted_sex</th>\n",
              "      <th>average_runtime(minutes_per_week)</th>\n",
              "      <th>airtime</th>\n",
              "      <th>airlocation</th>\n",
              "      <th>ratings</th>\n",
              "      <th>expensive</th>\n",
              "      <th>money_back_guarantee</th>\n",
              "      <th>netgain</th>\n",
              "    </tr>\n",
              "  </thead>\n",
              "  <tbody>\n",
              "    <tr>\n",
              "      <th>0</th>\n",
              "      <td>19717</td>\n",
              "      <td>3</td>\n",
              "      <td>5</td>\n",
              "      <td>3</td>\n",
              "      <td>1</td>\n",
              "      <td>45</td>\n",
              "      <td>1</td>\n",
              "      <td>30</td>\n",
              "      <td>0.027465</td>\n",
              "      <td>2</td>\n",
              "      <td>1</td>\n",
              "      <td>0</td>\n",
              "    </tr>\n",
              "    <tr>\n",
              "      <th>1</th>\n",
              "      <td>31593</td>\n",
              "      <td>1</td>\n",
              "      <td>3</td>\n",
              "      <td>3</td>\n",
              "      <td>1</td>\n",
              "      <td>45</td>\n",
              "      <td>1</td>\n",
              "      <td>30</td>\n",
              "      <td>0.027465</td>\n",
              "      <td>0</td>\n",
              "      <td>1</td>\n",
              "      <td>0</td>\n",
              "    </tr>\n",
              "    <tr>\n",
              "      <th>2</th>\n",
              "      <td>5681</td>\n",
              "      <td>0</td>\n",
              "      <td>4</td>\n",
              "      <td>3</td>\n",
              "      <td>0</td>\n",
              "      <td>45</td>\n",
              "      <td>1</td>\n",
              "      <td>30</td>\n",
              "      <td>0.027465</td>\n",
              "      <td>2</td>\n",
              "      <td>0</td>\n",
              "      <td>0</td>\n",
              "    </tr>\n",
              "    <tr>\n",
              "      <th>3</th>\n",
              "      <td>15491</td>\n",
              "      <td>6</td>\n",
              "      <td>1</td>\n",
              "      <td>2</td>\n",
              "      <td>0</td>\n",
              "      <td>40</td>\n",
              "      <td>1</td>\n",
              "      <td>30</td>\n",
              "      <td>0.027465</td>\n",
              "      <td>0</td>\n",
              "      <td>1</td>\n",
              "      <td>0</td>\n",
              "    </tr>\n",
              "    <tr>\n",
              "      <th>4</th>\n",
              "      <td>23587</td>\n",
              "      <td>1</td>\n",
              "      <td>3</td>\n",
              "      <td>3</td>\n",
              "      <td>1</td>\n",
              "      <td>48</td>\n",
              "      <td>1</td>\n",
              "      <td>30</td>\n",
              "      <td>0.027465</td>\n",
              "      <td>2</td>\n",
              "      <td>1</td>\n",
              "      <td>1</td>\n",
              "    </tr>\n",
              "    <tr>\n",
              "      <th>...</th>\n",
              "      <td>...</td>\n",
              "      <td>...</td>\n",
              "      <td>...</td>\n",
              "      <td>...</td>\n",
              "      <td>...</td>\n",
              "      <td>...</td>\n",
              "      <td>...</td>\n",
              "      <td>...</td>\n",
              "      <td>...</td>\n",
              "      <td>...</td>\n",
              "      <td>...</td>\n",
              "      <td>...</td>\n",
              "    </tr>\n",
              "    <tr>\n",
              "      <th>26043</th>\n",
              "      <td>16009</td>\n",
              "      <td>1</td>\n",
              "      <td>3</td>\n",
              "      <td>3</td>\n",
              "      <td>1</td>\n",
              "      <td>50</td>\n",
              "      <td>1</td>\n",
              "      <td>30</td>\n",
              "      <td>0.027465</td>\n",
              "      <td>0</td>\n",
              "      <td>1</td>\n",
              "      <td>1</td>\n",
              "    </tr>\n",
              "    <tr>\n",
              "      <th>26044</th>\n",
              "      <td>17241</td>\n",
              "      <td>4</td>\n",
              "      <td>5</td>\n",
              "      <td>3</td>\n",
              "      <td>0</td>\n",
              "      <td>40</td>\n",
              "      <td>2</td>\n",
              "      <td>30</td>\n",
              "      <td>0.027465</td>\n",
              "      <td>0</td>\n",
              "      <td>1</td>\n",
              "      <td>0</td>\n",
              "    </tr>\n",
              "    <tr>\n",
              "      <th>26045</th>\n",
              "      <td>2295</td>\n",
              "      <td>1</td>\n",
              "      <td>0</td>\n",
              "      <td>3</td>\n",
              "      <td>0</td>\n",
              "      <td>25</td>\n",
              "      <td>1</td>\n",
              "      <td>30</td>\n",
              "      <td>0.102234</td>\n",
              "      <td>0</td>\n",
              "      <td>1</td>\n",
              "      <td>1</td>\n",
              "    </tr>\n",
              "    <tr>\n",
              "      <th>26046</th>\n",
              "      <td>17902</td>\n",
              "      <td>4</td>\n",
              "      <td>5</td>\n",
              "      <td>3</td>\n",
              "      <td>0</td>\n",
              "      <td>48</td>\n",
              "      <td>2</td>\n",
              "      <td>30</td>\n",
              "      <td>0.027465</td>\n",
              "      <td>0</td>\n",
              "      <td>0</td>\n",
              "      <td>0</td>\n",
              "    </tr>\n",
              "    <tr>\n",
              "      <th>26047</th>\n",
              "      <td>30877</td>\n",
              "      <td>1</td>\n",
              "      <td>3</td>\n",
              "      <td>2</td>\n",
              "      <td>1</td>\n",
              "      <td>40</td>\n",
              "      <td>1</td>\n",
              "      <td>30</td>\n",
              "      <td>0.027465</td>\n",
              "      <td>0</td>\n",
              "      <td>0</td>\n",
              "      <td>0</td>\n",
              "    </tr>\n",
              "  </tbody>\n",
              "</table>\n",
              "<p>26048 rows × 12 columns</p>\n",
              "</div>"
            ],
            "text/plain": [
              "          id  realtionship_status  ...  money_back_guarantee  netgain\n",
              "0      19717                    3  ...                     1        0\n",
              "1      31593                    1  ...                     1        0\n",
              "2       5681                    0  ...                     0        0\n",
              "3      15491                    6  ...                     1        0\n",
              "4      23587                    1  ...                     1        1\n",
              "...      ...                  ...  ...                   ...      ...\n",
              "26043  16009                    1  ...                     1        1\n",
              "26044  17241                    4  ...                     1        0\n",
              "26045   2295                    1  ...                     1        1\n",
              "26046  17902                    4  ...                     0        0\n",
              "26047  30877                    1  ...                     0        0\n",
              "\n",
              "[26048 rows x 12 columns]"
            ]
          },
          "metadata": {
            "tags": []
          },
          "execution_count": 7
        }
      ]
    },
    {
      "cell_type": "code",
      "metadata": {
        "id": "7XC_rou-eqF1",
        "colab_type": "code",
        "outputId": "5ede0e8c-7029-415c-a815-de019c58b15a",
        "colab": {
          "base_uri": "https://localhost:8080/",
          "height": 422
        }
      },
      "source": [
        "data.corr()"
      ],
      "execution_count": 0,
      "outputs": [
        {
          "output_type": "execute_result",
          "data": {
            "text/html": [
              "<div>\n",
              "<style scoped>\n",
              "    .dataframe tbody tr th:only-of-type {\n",
              "        vertical-align: middle;\n",
              "    }\n",
              "\n",
              "    .dataframe tbody tr th {\n",
              "        vertical-align: top;\n",
              "    }\n",
              "\n",
              "    .dataframe thead th {\n",
              "        text-align: right;\n",
              "    }\n",
              "</style>\n",
              "<table border=\"1\" class=\"dataframe\">\n",
              "  <thead>\n",
              "    <tr style=\"text-align: right;\">\n",
              "      <th></th>\n",
              "      <th>id</th>\n",
              "      <th>realtionship_status</th>\n",
              "      <th>industry</th>\n",
              "      <th>genre</th>\n",
              "      <th>targeted_sex</th>\n",
              "      <th>average_runtime(minutes_per_week)</th>\n",
              "      <th>airtime</th>\n",
              "      <th>airlocation</th>\n",
              "      <th>ratings</th>\n",
              "      <th>expensive</th>\n",
              "      <th>money_back_guarantee</th>\n",
              "      <th>netgain</th>\n",
              "    </tr>\n",
              "  </thead>\n",
              "  <tbody>\n",
              "    <tr>\n",
              "      <th>id</th>\n",
              "      <td>1.000000</td>\n",
              "      <td>0.003466</td>\n",
              "      <td>0.004626</td>\n",
              "      <td>0.008772</td>\n",
              "      <td>0.001849</td>\n",
              "      <td>0.004017</td>\n",
              "      <td>0.001865</td>\n",
              "      <td>0.005257</td>\n",
              "      <td>0.003047</td>\n",
              "      <td>0.001003</td>\n",
              "      <td>0.009900</td>\n",
              "      <td>0.006263</td>\n",
              "    </tr>\n",
              "    <tr>\n",
              "      <th>realtionship_status</th>\n",
              "      <td>0.003466</td>\n",
              "      <td>1.000000</td>\n",
              "      <td>0.040867</td>\n",
              "      <td>-0.087910</td>\n",
              "      <td>-0.210680</td>\n",
              "      <td>-0.196047</td>\n",
              "      <td>0.352989</td>\n",
              "      <td>-0.020082</td>\n",
              "      <td>-0.062806</td>\n",
              "      <td>0.011763</td>\n",
              "      <td>-0.001160</td>\n",
              "      <td>-0.288184</td>\n",
              "    </tr>\n",
              "    <tr>\n",
              "      <th>industry</th>\n",
              "      <td>0.004626</td>\n",
              "      <td>0.040867</td>\n",
              "      <td>1.000000</td>\n",
              "      <td>0.014575</td>\n",
              "      <td>0.023142</td>\n",
              "      <td>0.153033</td>\n",
              "      <td>-0.201771</td>\n",
              "      <td>0.007763</td>\n",
              "      <td>-0.005674</td>\n",
              "      <td>-0.003992</td>\n",
              "      <td>0.000599</td>\n",
              "      <td>-0.077961</td>\n",
              "    </tr>\n",
              "    <tr>\n",
              "      <th>genre</th>\n",
              "      <td>0.008772</td>\n",
              "      <td>-0.087910</td>\n",
              "      <td>0.014575</td>\n",
              "      <td>1.000000</td>\n",
              "      <td>0.079723</td>\n",
              "      <td>0.031436</td>\n",
              "      <td>-0.024830</td>\n",
              "      <td>0.165698</td>\n",
              "      <td>-0.003336</td>\n",
              "      <td>0.002835</td>\n",
              "      <td>-0.006143</td>\n",
              "      <td>0.049647</td>\n",
              "    </tr>\n",
              "    <tr>\n",
              "      <th>targeted_sex</th>\n",
              "      <td>0.001849</td>\n",
              "      <td>-0.210680</td>\n",
              "      <td>0.023142</td>\n",
              "      <td>0.079723</td>\n",
              "      <td>1.000000</td>\n",
              "      <td>0.217584</td>\n",
              "      <td>-0.082231</td>\n",
              "      <td>0.002058</td>\n",
              "      <td>0.043120</td>\n",
              "      <td>-0.008241</td>\n",
              "      <td>0.003237</td>\n",
              "      <td>0.202949</td>\n",
              "    </tr>\n",
              "    <tr>\n",
              "      <th>average_runtime(minutes_per_week)</th>\n",
              "      <td>0.004017</td>\n",
              "      <td>-0.196047</td>\n",
              "      <td>0.153033</td>\n",
              "      <td>0.031436</td>\n",
              "      <td>0.217584</td>\n",
              "      <td>1.000000</td>\n",
              "      <td>-0.068833</td>\n",
              "      <td>0.009678</td>\n",
              "      <td>0.080649</td>\n",
              "      <td>0.008236</td>\n",
              "      <td>0.007487</td>\n",
              "      <td>0.204205</td>\n",
              "    </tr>\n",
              "    <tr>\n",
              "      <th>airtime</th>\n",
              "      <td>0.001865</td>\n",
              "      <td>0.352989</td>\n",
              "      <td>-0.201771</td>\n",
              "      <td>-0.024830</td>\n",
              "      <td>-0.082231</td>\n",
              "      <td>-0.068833</td>\n",
              "      <td>1.000000</td>\n",
              "      <td>0.002027</td>\n",
              "      <td>-0.076505</td>\n",
              "      <td>0.008837</td>\n",
              "      <td>0.008579</td>\n",
              "      <td>-0.236727</td>\n",
              "    </tr>\n",
              "    <tr>\n",
              "      <th>airlocation</th>\n",
              "      <td>0.005257</td>\n",
              "      <td>-0.020082</td>\n",
              "      <td>0.007763</td>\n",
              "      <td>0.165698</td>\n",
              "      <td>0.002058</td>\n",
              "      <td>0.009678</td>\n",
              "      <td>0.002027</td>\n",
              "      <td>1.000000</td>\n",
              "      <td>-0.004088</td>\n",
              "      <td>-0.007561</td>\n",
              "      <td>-0.000966</td>\n",
              "      <td>0.022306</td>\n",
              "    </tr>\n",
              "    <tr>\n",
              "      <th>ratings</th>\n",
              "      <td>0.003047</td>\n",
              "      <td>-0.062806</td>\n",
              "      <td>-0.005674</td>\n",
              "      <td>-0.003336</td>\n",
              "      <td>0.043120</td>\n",
              "      <td>0.080649</td>\n",
              "      <td>-0.076505</td>\n",
              "      <td>-0.004088</td>\n",
              "      <td>1.000000</td>\n",
              "      <td>-0.001202</td>\n",
              "      <td>-0.003504</td>\n",
              "      <td>0.229677</td>\n",
              "    </tr>\n",
              "    <tr>\n",
              "      <th>expensive</th>\n",
              "      <td>0.001003</td>\n",
              "      <td>0.011763</td>\n",
              "      <td>-0.003992</td>\n",
              "      <td>0.002835</td>\n",
              "      <td>-0.008241</td>\n",
              "      <td>0.008236</td>\n",
              "      <td>0.008837</td>\n",
              "      <td>-0.007561</td>\n",
              "      <td>-0.001202</td>\n",
              "      <td>1.000000</td>\n",
              "      <td>0.257406</td>\n",
              "      <td>0.008089</td>\n",
              "    </tr>\n",
              "    <tr>\n",
              "      <th>money_back_guarantee</th>\n",
              "      <td>0.009900</td>\n",
              "      <td>-0.001160</td>\n",
              "      <td>0.000599</td>\n",
              "      <td>-0.006143</td>\n",
              "      <td>0.003237</td>\n",
              "      <td>0.007487</td>\n",
              "      <td>0.008579</td>\n",
              "      <td>-0.000966</td>\n",
              "      <td>-0.003504</td>\n",
              "      <td>0.257406</td>\n",
              "      <td>1.000000</td>\n",
              "      <td>0.001290</td>\n",
              "    </tr>\n",
              "    <tr>\n",
              "      <th>netgain</th>\n",
              "      <td>0.006263</td>\n",
              "      <td>-0.288184</td>\n",
              "      <td>-0.077961</td>\n",
              "      <td>0.049647</td>\n",
              "      <td>0.202949</td>\n",
              "      <td>0.204205</td>\n",
              "      <td>-0.236727</td>\n",
              "      <td>0.022306</td>\n",
              "      <td>0.229677</td>\n",
              "      <td>0.008089</td>\n",
              "      <td>0.001290</td>\n",
              "      <td>1.000000</td>\n",
              "    </tr>\n",
              "  </tbody>\n",
              "</table>\n",
              "</div>"
            ],
            "text/plain": [
              "                                         id  ...   netgain\n",
              "id                                 1.000000  ...  0.006263\n",
              "realtionship_status                0.003466  ... -0.288184\n",
              "industry                           0.004626  ... -0.077961\n",
              "genre                              0.008772  ...  0.049647\n",
              "targeted_sex                       0.001849  ...  0.202949\n",
              "average_runtime(minutes_per_week)  0.004017  ...  0.204205\n",
              "airtime                            0.001865  ... -0.236727\n",
              "airlocation                        0.005257  ...  0.022306\n",
              "ratings                            0.003047  ...  0.229677\n",
              "expensive                          0.001003  ...  0.008089\n",
              "money_back_guarantee               0.009900  ...  0.001290\n",
              "netgain                            0.006263  ...  1.000000\n",
              "\n",
              "[12 rows x 12 columns]"
            ]
          },
          "metadata": {
            "tags": []
          },
          "execution_count": 8
        }
      ]
    },
    {
      "cell_type": "code",
      "metadata": {
        "id": "-kKriymtsEBg",
        "colab_type": "code",
        "colab": {}
      },
      "source": [
        "from sklearn.linear_model import LinearRegression , LogisticRegression\n",
        "from sklearn.model_selection import train_test_split\n",
        "from sklearn.preprocessing import StandardScaler,MinMaxScaler\n",
        "from lightgbm import LGBMClassifier\n",
        "from xgboost import XGBClassifier ,XGBRegressor"
      ],
      "execution_count": 0,
      "outputs": []
    },
    {
      "cell_type": "code",
      "metadata": {
        "id": "l88rZqQbs6tE",
        "colab_type": "code",
        "colab": {}
      },
      "source": [
        "x = data.drop([\"id\",\"netgain\"],axis=1)\n",
        "y= data[[\"netgain\"]]"
      ],
      "execution_count": 0,
      "outputs": []
    },
    {
      "cell_type": "code",
      "metadata": {
        "id": "Y4QrgFBWXTXb",
        "colab_type": "code",
        "colab": {}
      },
      "source": [
        "# from sklearn.preprocessing import LabelEncoder,OneHotEncoder\n",
        "# encoded_x = None\n",
        "# for i in range(0, x.shape[1]):\n",
        "# \tlabel_encoder = LabelEncoder()\n",
        "# \tfeature = label_encoder.fit_transform(x.values[:,i])\n",
        "# \tfeature = feature.reshape(x.shape[0], 1)\n",
        "# \tonehot_encoder = OneHotEncoder(sparse=False, categories='auto')\n",
        "# \tfeature = onehot_encoder.fit_transform(feature)\n",
        "# \tif encoded_x is None:\n",
        "# \t\tencoded_x = feature\n",
        "# \telse:\n",
        "# \t\tencoded_x = np.concatenate((encoded_x, feature), axis=1)\n",
        "  \n",
        "# label_encoded_y = LabelEncoder().fit_transform(y)"
      ],
      "execution_count": 0,
      "outputs": []
    },
    {
      "cell_type": "code",
      "metadata": {
        "id": "ympLeUIutGeY",
        "colab_type": "code",
        "colab": {}
      },
      "source": [
        "scale = MinMaxScaler()\n",
        "x = scale.fit_transform(x)\n",
        "x_train,x_test , y_train,y_test = train_test_split(x,y,test_size=0.15,random_state=125)"
      ],
      "execution_count": 0,
      "outputs": []
    },
    {
      "cell_type": "code",
      "metadata": {
        "id": "k_2XVkpDB9r6",
        "colab_type": "code",
        "colab": {}
      },
      "source": [
        "testing = pd.read_csv(\"Dataset/Test.csv\")\n",
        "testing.realtionship_status = testing.realtionship_status.map(relationship_status)\n",
        "testing.industry = testing.industry.map(industry)\n",
        "testing.genre = testing.genre.map(genre)\n",
        "testing.targeted_sex = testing.targeted_sex.map(targeted_sex)\n",
        "testing.airtime = testing.airtime.map(airtime)\n",
        "testing.airlocation = testing.airlocation.map(airlocation)\n",
        "testing.expensive = testing.expensive.map(expensive)\n",
        "testing.money_back_guarantee = testing.money_back_guarantee.map(money_back_gurantee)"
      ],
      "execution_count": 0,
      "outputs": []
    },
    {
      "cell_type": "code",
      "metadata": {
        "id": "jsxaz3DSCY8V",
        "colab_type": "code",
        "outputId": "fa1232b2-4e05-4e60-b8eb-5638ff79ff01",
        "colab": {
          "base_uri": "https://localhost:8080/",
          "height": 138
        }
      },
      "source": [
        "try1=LogisticRegression(\n",
        "    penalty=\"l1\",\n",
        "    tol=0.1\n",
        ")\n",
        "try1.fit(x_train,y_train)\n",
        "print(try1.score(x_test,y_test))\n",
        "\n",
        "import numpy as np\n",
        "np.unique(try1.predict(scale.transform(testing.drop([\"id\"],axis=1))),return_counts=True)"
      ],
      "execution_count": 0,
      "outputs": [
        {
          "output_type": "stream",
          "text": [
            "0.7919651995905834\n"
          ],
          "name": "stdout"
        },
        {
          "output_type": "stream",
          "text": [
            "/usr/local/lib/python3.6/dist-packages/sklearn/linear_model/logistic.py:432: FutureWarning: Default solver will be changed to 'lbfgs' in 0.22. Specify a solver to silence this warning.\n",
            "  FutureWarning)\n",
            "/usr/local/lib/python3.6/dist-packages/sklearn/utils/validation.py:724: DataConversionWarning: A column-vector y was passed when a 1d array was expected. Please change the shape of y to (n_samples, ), for example using ravel().\n",
            "  y = column_or_1d(y, warn=True)\n"
          ],
          "name": "stderr"
        },
        {
          "output_type": "execute_result",
          "data": {
            "text/plain": [
              "(array([0, 1]), array([5976,  537]))"
            ]
          },
          "metadata": {
            "tags": []
          },
          "execution_count": 14
        }
      ]
    },
    {
      "cell_type": "code",
      "metadata": {
        "id": "WnXeiFR-3ue2",
        "colab_type": "code",
        "outputId": "512d845e-c7f4-4f3c-f199-3776ffc4cc60",
        "colab": {
          "base_uri": "https://localhost:8080/",
          "height": 235
        }
      },
      "source": [
        "x_train"
      ],
      "execution_count": 0,
      "outputs": [
        {
          "output_type": "execute_result",
          "data": {
            "text/plain": [
              "array([[0.16666667, 0.        , 0.75      , ..., 0.02746467, 1.        ,\n",
              "        1.        ],\n",
              "       [0.16666667, 0.6       , 0.75      , ..., 0.02746467, 0.        ,\n",
              "        0.        ],\n",
              "       [0.16666667, 0.        , 0.75      , ..., 0.02746467, 1.        ,\n",
              "        0.        ],\n",
              "       ...,\n",
              "       [0.66666667, 0.8       , 0.5       , ..., 0.02746467, 1.        ,\n",
              "        1.        ],\n",
              "       [0.16666667, 0.6       , 0.75      , ..., 0.02746467, 0.        ,\n",
              "        1.        ],\n",
              "       [0.16666667, 0.6       , 0.75      , ..., 0.02746467, 0.        ,\n",
              "        0.        ]])"
            ]
          },
          "metadata": {
            "tags": []
          },
          "execution_count": 15
        }
      ]
    },
    {
      "cell_type": "code",
      "metadata": {
        "id": "MlH7_D3P-r0a",
        "colab_type": "code",
        "outputId": "4549cb5f-4e2e-442f-a3ca-5857d824f178",
        "colab": {
          "base_uri": "https://localhost:8080/",
          "height": 356
        }
      },
      "source": [
        "!pip install catboost"
      ],
      "execution_count": 0,
      "outputs": [
        {
          "output_type": "stream",
          "text": [
            "Collecting catboost\n",
            "\u001b[?25l  Downloading https://files.pythonhosted.org/packages/97/c4/586923de4634f88a31fd1b4966e15707a912b98b6f4566651b5ef58f36b5/catboost-0.20.2-cp36-none-manylinux1_x86_64.whl (63.9MB)\n",
            "\u001b[K     |████████████████████████████████| 63.9MB 47kB/s \n",
            "\u001b[?25hRequirement already satisfied: plotly in /usr/local/lib/python3.6/dist-packages (from catboost) (4.1.1)\n",
            "Requirement already satisfied: matplotlib in /usr/local/lib/python3.6/dist-packages (from catboost) (3.1.2)\n",
            "Requirement already satisfied: pandas>=0.24.0 in /usr/local/lib/python3.6/dist-packages (from catboost) (0.25.3)\n",
            "Requirement already satisfied: numpy>=1.16.0 in /usr/local/lib/python3.6/dist-packages (from catboost) (1.17.4)\n",
            "Requirement already satisfied: six in /usr/local/lib/python3.6/dist-packages (from catboost) (1.12.0)\n",
            "Requirement already satisfied: graphviz in /usr/local/lib/python3.6/dist-packages (from catboost) (0.10.1)\n",
            "Requirement already satisfied: scipy in /usr/local/lib/python3.6/dist-packages (from catboost) (1.3.3)\n",
            "Requirement already satisfied: retrying>=1.3.3 in /usr/local/lib/python3.6/dist-packages (from plotly->catboost) (1.3.3)\n",
            "Requirement already satisfied: kiwisolver>=1.0.1 in /usr/local/lib/python3.6/dist-packages (from matplotlib->catboost) (1.1.0)\n",
            "Requirement already satisfied: pyparsing!=2.0.4,!=2.1.2,!=2.1.6,>=2.0.1 in /usr/local/lib/python3.6/dist-packages (from matplotlib->catboost) (2.4.5)\n",
            "Requirement already satisfied: python-dateutil>=2.1 in /usr/local/lib/python3.6/dist-packages (from matplotlib->catboost) (2.6.1)\n",
            "Requirement already satisfied: cycler>=0.10 in /usr/local/lib/python3.6/dist-packages (from matplotlib->catboost) (0.10.0)\n",
            "Requirement already satisfied: pytz>=2017.2 in /usr/local/lib/python3.6/dist-packages (from pandas>=0.24.0->catboost) (2018.9)\n",
            "Requirement already satisfied: setuptools in /usr/local/lib/python3.6/dist-packages (from kiwisolver>=1.0.1->matplotlib->catboost) (42.0.2)\n",
            "Installing collected packages: catboost\n",
            "Successfully installed catboost-0.20.2\n"
          ],
          "name": "stdout"
        }
      ]
    },
    {
      "cell_type": "code",
      "metadata": {
        "id": "8uBp13BCya8t",
        "colab_type": "code",
        "outputId": "03ab27d0-8753-4e38-ebee-f36a943e52b3",
        "colab": {
          "base_uri": "https://localhost:8080/",
          "height": 235
        }
      },
      "source": [
        "x_test"
      ],
      "execution_count": 0,
      "outputs": [
        {
          "output_type": "execute_result",
          "data": {
            "text/plain": [
              "array([[1.        , 0.8       , 0.5       , ..., 0.02746467, 0.        ,\n",
              "        0.        ],\n",
              "       [0.66666667, 1.        , 0.75      , ..., 0.02746467, 1.        ,\n",
              "        1.        ],\n",
              "       [0.        , 1.        , 0.75      , ..., 0.02746467, 0.5       ,\n",
              "        1.        ],\n",
              "       ...,\n",
              "       [0.16666667, 0.6       , 0.75      , ..., 0.02746467, 1.        ,\n",
              "        1.        ],\n",
              "       [0.66666667, 1.        , 0.75      , ..., 0.02746467, 0.        ,\n",
              "        0.        ],\n",
              "       [0.66666667, 0.2       , 0.75      , ..., 0.02746467, 1.        ,\n",
              "        1.        ]])"
            ]
          },
          "metadata": {
            "tags": []
          },
          "execution_count": 17
        }
      ]
    },
    {
      "cell_type": "code",
      "metadata": {
        "id": "UsFujnswEBJB",
        "colab_type": "code",
        "outputId": "198a1712-e620-4ea5-a3ed-2f4f919a28b6",
        "colab": {
          "base_uri": "https://localhost:8080/",
          "height": 286
        }
      },
      "source": [
        "from catboost import CatBoostClassifier\n",
        "\n",
        "param_catboost={\n",
        "    \"learning_rate\":[0.3,0.4],\n",
        "    \"depth\":[1,2,3],\n",
        "    \"n_estimators\":[800,900,1000],\n",
        "    \"loss_function\":[\"CrossEntropy\"],\n",
        "    \"reg_lambda\":[0.1,0.2,0.3],\n",
        "    \"eval_metric\":[\"Accuracy\"],\n",
        "    \"verbose\":[False],\n",
        "    \"task_type\":[\"GPU\"]\n",
        " }\n",
        "\n",
        "\n",
        "from sklearn.model_selection import RandomizedSearchCV , GridSearchCV\n",
        "cat = CatBoostClassifier()\n",
        "random = GridSearchCV(cat,param_grid=param_catboost,cv=5,verbose=True,n_jobs=2)\n",
        "random.fit(x,y)\n",
        "# random.score(x_test,y_test)"
      ],
      "execution_count": 0,
      "outputs": [
        {
          "output_type": "stream",
          "text": [
            "Fitting 5 folds for each of 54 candidates, totalling 270 fits\n"
          ],
          "name": "stdout"
        },
        {
          "output_type": "stream",
          "text": [
            "[Parallel(n_jobs=2)]: Using backend LokyBackend with 2 concurrent workers.\n",
            "[Parallel(n_jobs=2)]: Done  46 tasks      | elapsed: 19.0min\n",
            "[Parallel(n_jobs=2)]: Done 196 tasks      | elapsed: 83.4min\n",
            "[Parallel(n_jobs=2)]: Done 270 out of 270 | elapsed: 117.0min finished\n"
          ],
          "name": "stderr"
        },
        {
          "output_type": "execute_result",
          "data": {
            "text/plain": [
              "GridSearchCV(cv=5, error_score='raise-deprecating',\n",
              "             estimator=<catboost.core.CatBoostClassifier object at 0x7f098fef6e80>,\n",
              "             iid='warn', n_jobs=2,\n",
              "             param_grid={'depth': [1, 2, 3], 'eval_metric': ['Accuracy'],\n",
              "                         'learning_rate': [0.3, 0.4],\n",
              "                         'loss_function': ['CrossEntropy'],\n",
              "                         'n_estimators': [800, 900, 1000],\n",
              "                         'reg_lambda': [0.1, 0.2, 0.3], 'task_type': ['GPU'],\n",
              "                         'verbose': [False]},\n",
              "             pre_dispatch='2*n_jobs', refit=True, return_train_score=False,\n",
              "             scoring=None, verbose=True)"
            ]
          },
          "metadata": {
            "tags": []
          },
          "execution_count": 19
        }
      ]
    },
    {
      "cell_type": "code",
      "metadata": {
        "id": "pCX1Be-RAz50",
        "colab_type": "code",
        "outputId": "fd7c33fe-576a-45d9-8992-fa6466c0d1fc",
        "colab": {
          "base_uri": "https://localhost:8080/",
          "height": 34
        }
      },
      "source": [
        "test(random)"
      ],
      "execution_count": 0,
      "outputs": [
        {
          "output_type": "stream",
          "text": [
            "(array([0., 1.]), array([5436, 1077]))\n"
          ],
          "name": "stdout"
        }
      ]
    },
    {
      "cell_type": "code",
      "metadata": {
        "id": "MQHO0zBMRLmc",
        "colab_type": "code",
        "colab": {}
      },
      "source": [
        "def test(model):\n",
        "  import numpy as np\n",
        "\n",
        "  test=testing.drop([\"id\"],axis=1)\n",
        "  test=scale.transform(test)\n",
        "  al = model.predict(test)\n",
        "  print(np.unique(model.predict(test),return_counts=True))\n",
        "  save_result(al)"
      ],
      "execution_count": 0,
      "outputs": []
    },
    {
      "cell_type": "code",
      "metadata": {
        "id": "qKCL9QYIy4fD",
        "colab_type": "code",
        "colab": {}
      },
      "source": [
        "def save_result(al):\n",
        "  pd.DataFrame(data=list(zip(testing.id,al)),columns=[\"id\",\"netgain\"],index=None).to_csv(\"submission.csv\",index=None)"
      ],
      "execution_count": 0,
      "outputs": []
    },
    {
      "cell_type": "code",
      "metadata": {
        "id": "ZboIu7C3DB9u",
        "colab_type": "code",
        "colab": {}
      },
      "source": [
        "from sklearn.ensemble import ExtraTreesClassifier\n",
        "model = ExtraTreesClassifier(\n",
        "    n_estimators=100\n",
        ")\n",
        "model.fit(x_train,y_train)\n",
        "print(model.score(x_test,y_test))\n",
        "import numpy as np\n",
        "\n",
        "test=testing.drop([\"id\"],axis=1)\n",
        "test=scale.transform(test)\n",
        "al = model.predict(test)\n",
        "np.unique(model.predict(test),return_counts=True)\n",
        "save_result(al)"
      ],
      "execution_count": 0,
      "outputs": []
    },
    {
      "cell_type": "code",
      "metadata": {
        "id": "znmwguhuFv5y",
        "colab_type": "code",
        "colab": {}
      },
      "source": [
        "from sklearn.svm import SVC\n",
        "from sklearn.metrics import accuracy_score\n",
        "\n",
        "model = SVC(kernel=\"linear\")\n",
        "model.fit(x_train,y_train)\n",
        "print(accuracy_score(model.predict(x_test),y_test))\n",
        "test=testing.drop([\"id\"],axis=1)\n",
        "test=scale.transform(test)\n",
        "al = model.predict(test)\n",
        "np.unique(model.predict(test),return_counts=True)\n",
        "save_result(al)"
      ],
      "execution_count": 0,
      "outputs": []
    },
    {
      "cell_type": "code",
      "metadata": {
        "id": "pnI4TFu6tOIl",
        "colab_type": "code",
        "colab": {}
      },
      "source": [
        "import time \n",
        "start = time.time()\n",
        "model = XGBClassifier(\n",
        "    n_estimators=1200,\n",
        "    num_leaves=250,\n",
        "    max_depth=2,\n",
        "    learning_rate=0.1,\n",
        "    gamma=0.01,\n",
        "    min_child_weight=0.001,\n",
        "    reg_alpha=0.2,\n",
        "    reg_lambda=0.2,\n",
        ")\n",
        "model.fit(x_train,y_train)\n",
        "end = time.time()\n",
        "print(\"completed in \",(end-start)/60,\" minutes\")\n",
        "print(model.score(x_test,y_test))\n",
        "\n",
        "al =[]\n",
        "\n",
        "# test = testing[x_train.columns]\n",
        "# print(test.columns)\n",
        "for i,row in testing.drop([\"id\"],axis=1).iterrows():\n",
        "  row = scale.transform([row])\n",
        "  al.append(model.predict(row)[0])\n",
        "\n",
        "import numpy as np\n",
        "np.unique(al,return_counts=True)\n",
        "save_result(al)"
      ],
      "execution_count": 0,
      "outputs": []
    },
    {
      "cell_type": "code",
      "metadata": {
        "id": "1OyEG0AfIYym",
        "colab_type": "code",
        "colab": {}
      },
      "source": [
        "b = x_test[x_train.columns]"
      ],
      "execution_count": 0,
      "outputs": []
    },
    {
      "cell_type": "code",
      "metadata": {
        "id": "4v0E5_Is0JHj",
        "colab_type": "code",
        "outputId": "e4e8e030-d01f-4aab-977b-b3c890fddfc1",
        "colab": {
          "base_uri": "https://localhost:8080/",
          "height": 346
        }
      },
      "source": [
        "params_lgbm = {\n",
        "    'max_depth': [0,1,2,3,4,5,7,8],\n",
        "    'min_child_samples': [15,18,20,25,30,35],\n",
        "    'min_child_weight': [0.01,0.05,0.001],\n",
        "    'min_split_gain': [0.001,0.01,0.0],\n",
        "    'n_estimators': [240,250,300,320,330,350,400,450,500],\n",
        "    'num_leaves': [150,170,180,200,220,250,300,350],\n",
        "    'reg_alpha': [0,0.1,0.2,0.25],\n",
        "    'reg_lambda': [0,0.1,0.2,0.25],\n",
        "    'subsample_freq': [1,2,4,5,6,7,8]\n",
        " }\n",
        "\n",
        "params_xgboost = {\n",
        "    'max_depth': [0,1,2,3,4,5,7,8],\n",
        "    'min_child_samples': [15,18,20,25,30,35],\n",
        "    'min_child_weight': [0.01,0.05,0.001],\n",
        "    'min_split_gain': [0.001,0.01,0.0],\n",
        "    'n_estimators': [240,250,300,320,330,350,400,450,500],\n",
        "    'num_leaves': [150,170,180,200,220,250,300,350],\n",
        "    'reg_alpha': [0,0.1,0.2,0.25],\n",
        "    'reg_lambda': [1,0.9,0.95,0.85],\n",
        "    'subsample_freq': [1,2,4,5,6,7,8]\n",
        " }\n",
        "\n",
        "import random\n",
        "\n",
        "param_catboost={\n",
        "    \"learning_rate\":random.randrange(start=0.5,stop=0.1,step=0.05,_int=float),\n",
        "    \"depth\":random.randrange(1,5),\n",
        "    \"n_estimators\":random.randrange(100,1000,50),\n",
        "    \"loss_function\":[\"CrossEntropy\"],\n",
        "    \"reg_lambda\":random.randrange(0.1,0.5,0.05),\n",
        "    \"eval_metric\":[\"Accuracy\"],\n",
        "    \"verbose\":[False],\n",
        "    \"task_type\":[\"GPU\"]\n",
        " }"
      ],
      "execution_count": 0,
      "outputs": [
        {
          "output_type": "error",
          "ename": "ValueError",
          "evalue": "ignored",
          "traceback": [
            "\u001b[0;31m---------------------------------------------------------------------------\u001b[0m",
            "\u001b[0;31mValueError\u001b[0m                                Traceback (most recent call last)",
            "\u001b[0;32m<ipython-input-52-9b604d91e9a0>\u001b[0m in \u001b[0;36m<module>\u001b[0;34m()\u001b[0m\n\u001b[1;32m     37\u001b[0m \u001b[0;34m\u001b[0m\u001b[0m\n\u001b[1;32m     38\u001b[0m param_catboost={\n\u001b[0;32m---> 39\u001b[0;31m     \u001b[0;34m\"learning_rate\"\u001b[0m\u001b[0;34m:\u001b[0m\u001b[0mrandom\u001b[0m\u001b[0;34m.\u001b[0m\u001b[0mrandrange\u001b[0m\u001b[0;34m(\u001b[0m\u001b[0mstart\u001b[0m\u001b[0;34m=\u001b[0m\u001b[0;36m0.5\u001b[0m\u001b[0;34m,\u001b[0m\u001b[0mstop\u001b[0m\u001b[0;34m=\u001b[0m\u001b[0;36m0.1\u001b[0m\u001b[0;34m,\u001b[0m\u001b[0mstep\u001b[0m\u001b[0;34m=\u001b[0m\u001b[0;36m0.05\u001b[0m\u001b[0;34m,\u001b[0m\u001b[0m_int\u001b[0m\u001b[0;34m=\u001b[0m\u001b[0mfloat\u001b[0m\u001b[0;34m)\u001b[0m\u001b[0;34m,\u001b[0m\u001b[0;34m\u001b[0m\u001b[0;34m\u001b[0m\u001b[0m\n\u001b[0m\u001b[1;32m     40\u001b[0m     \u001b[0;34m\"depth\"\u001b[0m\u001b[0;34m:\u001b[0m\u001b[0mrandom\u001b[0m\u001b[0;34m.\u001b[0m\u001b[0mrandrange\u001b[0m\u001b[0;34m(\u001b[0m\u001b[0;36m1\u001b[0m\u001b[0;34m,\u001b[0m\u001b[0;36m5\u001b[0m\u001b[0;34m)\u001b[0m\u001b[0;34m,\u001b[0m\u001b[0;34m\u001b[0m\u001b[0;34m\u001b[0m\u001b[0m\n\u001b[1;32m     41\u001b[0m     \u001b[0;34m\"n_estimators\"\u001b[0m\u001b[0;34m:\u001b[0m\u001b[0mrandom\u001b[0m\u001b[0;34m.\u001b[0m\u001b[0mrandrange\u001b[0m\u001b[0;34m(\u001b[0m\u001b[0;36m100\u001b[0m\u001b[0;34m,\u001b[0m\u001b[0;36m1000\u001b[0m\u001b[0;34m,\u001b[0m\u001b[0;36m50\u001b[0m\u001b[0;34m)\u001b[0m\u001b[0;34m,\u001b[0m\u001b[0;34m\u001b[0m\u001b[0;34m\u001b[0m\u001b[0m\n",
            "\u001b[0;32m/usr/lib/python3.6/random.py\u001b[0m in \u001b[0;36mrandrange\u001b[0;34m(self, start, stop, step, _int)\u001b[0m\n\u001b[1;32m    211\u001b[0m \u001b[0;34m\u001b[0m\u001b[0m\n\u001b[1;32m    212\u001b[0m         \u001b[0;32mif\u001b[0m \u001b[0mn\u001b[0m \u001b[0;34m<=\u001b[0m \u001b[0;36m0\u001b[0m\u001b[0;34m:\u001b[0m\u001b[0;34m\u001b[0m\u001b[0;34m\u001b[0m\u001b[0m\n\u001b[0;32m--> 213\u001b[0;31m             \u001b[0;32mraise\u001b[0m \u001b[0mValueError\u001b[0m\u001b[0;34m(\u001b[0m\u001b[0;34m\"empty range for randrange()\"\u001b[0m\u001b[0;34m)\u001b[0m\u001b[0;34m\u001b[0m\u001b[0;34m\u001b[0m\u001b[0m\n\u001b[0m\u001b[1;32m    214\u001b[0m \u001b[0;34m\u001b[0m\u001b[0m\n\u001b[1;32m    215\u001b[0m         \u001b[0;32mreturn\u001b[0m \u001b[0mistart\u001b[0m \u001b[0;34m+\u001b[0m \u001b[0mistep\u001b[0m\u001b[0;34m*\u001b[0m\u001b[0mself\u001b[0m\u001b[0;34m.\u001b[0m\u001b[0m_randbelow\u001b[0m\u001b[0;34m(\u001b[0m\u001b[0mn\u001b[0m\u001b[0;34m)\u001b[0m\u001b[0;34m\u001b[0m\u001b[0;34m\u001b[0m\u001b[0m\n",
            "\u001b[0;31mValueError\u001b[0m: empty range for randrange()"
          ]
        }
      ]
    },
    {
      "cell_type": "code",
      "metadata": {
        "id": "OL9eNOxQz_xf",
        "colab_type": "code",
        "outputId": "b1c67ef2-db47-4b7a-9c64-9215b6f095c1",
        "colab": {
          "base_uri": "https://localhost:8080/",
          "height": 101
        }
      },
      "source": [
        "scale = MinMaxScaler()\n",
        "x = scale.fit_transform(x)\n",
        "x_train,x_test , y_train,y_test = train_test_split(x,y,test_size=0.2)\n",
        "from sklearn.model_selection import RandomizedSearchCV , GridSearchCV\n",
        "\n",
        "random = RandomizedSearchCV(cat,param_distributions=param_catboost,cv=10,verbose=True,n_jobs=2)\n",
        "random.fit(x_train,y_train)\n",
        "random.score(x_test,y_test)"
      ],
      "execution_count": 0,
      "outputs": [
        {
          "output_type": "stream",
          "text": [
            "Fitting 10 folds for each of 10 candidates, totalling 100 fits\n"
          ],
          "name": "stdout"
        },
        {
          "output_type": "stream",
          "text": [
            "[Parallel(n_jobs=2)]: Using backend LokyBackend with 2 concurrent workers.\n",
            "[Parallel(n_jobs=2)]: Done  46 tasks      | elapsed: 13.4min\n",
            "[Parallel(n_jobs=2)]: Done 100 out of 100 | elapsed: 31.3min finished\n"
          ],
          "name": "stderr"
        },
        {
          "output_type": "execute_result",
          "data": {
            "text/plain": [
              "0.8115163147792707"
            ]
          },
          "metadata": {
            "tags": []
          },
          "execution_count": 37
        }
      ]
    },
    {
      "cell_type": "code",
      "metadata": {
        "id": "yhy9TkevtXQy",
        "colab_type": "code",
        "outputId": "d2eb3c4c-de1d-4ed7-8dcd-5ea7ae674578",
        "colab": {
          "base_uri": "https://localhost:8080/",
          "height": 151
        }
      },
      "source": [
        "random.best_params_"
      ],
      "execution_count": 0,
      "outputs": [
        {
          "output_type": "execute_result",
          "data": {
            "text/plain": [
              "{'depth': 1,\n",
              " 'eval_metric': 'Accuracy',\n",
              " 'learning_rate': 0.5,\n",
              " 'loss_function': 'CrossEntropy',\n",
              " 'n_estimators': 900,\n",
              " 'reg_lambda': 0.1,\n",
              " 'task_type': 'GPU',\n",
              " 'verbose': False}"
            ]
          },
          "metadata": {
            "tags": []
          },
          "execution_count": 38
        }
      ]
    },
    {
      "cell_type": "code",
      "metadata": {
        "id": "0ncUP7JsMaDS",
        "colab_type": "code",
        "outputId": "dbd12483-10b2-4849-9d68-4d22d2f57e8a",
        "colab": {
          "base_uri": "https://localhost:8080/",
          "height": 34
        }
      },
      "source": [
        "import numpy as np\n",
        "\n",
        "test=testing.drop([\"id\"],axis=1)\n",
        "test=scale.transform(test)\n",
        "al = random.predict(test)\n",
        "np.unique(random.predict(test),return_counts=True)"
      ],
      "execution_count": 0,
      "outputs": [
        {
          "output_type": "execute_result",
          "data": {
            "text/plain": [
              "(array([0., 1.]), array([3869, 2644]))"
            ]
          },
          "metadata": {
            "tags": []
          },
          "execution_count": 30
        }
      ]
    },
    {
      "cell_type": "code",
      "metadata": {
        "id": "8RSfqhmbMmIL",
        "colab_type": "code",
        "colab": {}
      },
      "source": [
        "pd.DataFrame(data=list(zip(testing.id,al)),columns=[\"id\",\"netgain\"],index=None).to_csv(\"submission.csv\",index=None)"
      ],
      "execution_count": 0,
      "outputs": []
    },
    {
      "cell_type": "code",
      "metadata": {
        "id": "lfJC7hq5tfoS",
        "colab_type": "code",
        "outputId": "ff5fa6fb-fd2b-49a1-8498-7a4b0d0103da",
        "colab": {
          "base_uri": "https://localhost:8080/",
          "height": 422
        }
      },
      "source": [
        "testing"
      ],
      "execution_count": 0,
      "outputs": [
        {
          "output_type": "execute_result",
          "data": {
            "text/html": [
              "<div>\n",
              "<style scoped>\n",
              "    .dataframe tbody tr th:only-of-type {\n",
              "        vertical-align: middle;\n",
              "    }\n",
              "\n",
              "    .dataframe tbody tr th {\n",
              "        vertical-align: top;\n",
              "    }\n",
              "\n",
              "    .dataframe thead th {\n",
              "        text-align: right;\n",
              "    }\n",
              "</style>\n",
              "<table border=\"1\" class=\"dataframe\">\n",
              "  <thead>\n",
              "    <tr style=\"text-align: right;\">\n",
              "      <th></th>\n",
              "      <th>id</th>\n",
              "      <th>realtionship_status</th>\n",
              "      <th>industry</th>\n",
              "      <th>genre</th>\n",
              "      <th>targeted_sex</th>\n",
              "      <th>average_runtime(minutes_per_week)</th>\n",
              "      <th>airtime</th>\n",
              "      <th>airlocation</th>\n",
              "      <th>ratings</th>\n",
              "      <th>expensive</th>\n",
              "      <th>money_back_guarantee</th>\n",
              "    </tr>\n",
              "  </thead>\n",
              "  <tbody>\n",
              "    <tr>\n",
              "      <th>0</th>\n",
              "      <td>1</td>\n",
              "      <td>Widowed</td>\n",
              "      <td>Auto</td>\n",
              "      <td>Comedy</td>\n",
              "      <td>Female</td>\n",
              "      <td>10</td>\n",
              "      <td>Daytime</td>\n",
              "      <td>United-States</td>\n",
              "      <td>0.027465</td>\n",
              "      <td>Low</td>\n",
              "      <td>No</td>\n",
              "    </tr>\n",
              "    <tr>\n",
              "      <th>1</th>\n",
              "      <td>4</td>\n",
              "      <td>Married-civ-spouse</td>\n",
              "      <td>Pharma</td>\n",
              "      <td>Comedy</td>\n",
              "      <td>Male</td>\n",
              "      <td>40</td>\n",
              "      <td>Morning</td>\n",
              "      <td>United-States</td>\n",
              "      <td>0.056262</td>\n",
              "      <td>High</td>\n",
              "      <td>Yes</td>\n",
              "    </tr>\n",
              "    <tr>\n",
              "      <th>2</th>\n",
              "      <td>5</td>\n",
              "      <td>Divorced</td>\n",
              "      <td>Entertainment</td>\n",
              "      <td>Comedy</td>\n",
              "      <td>Female</td>\n",
              "      <td>50</td>\n",
              "      <td>Morning</td>\n",
              "      <td>United-States</td>\n",
              "      <td>0.027465</td>\n",
              "      <td>Low</td>\n",
              "      <td>No</td>\n",
              "    </tr>\n",
              "    <tr>\n",
              "      <th>3</th>\n",
              "      <td>9</td>\n",
              "      <td>Married-civ-spouse</td>\n",
              "      <td>Pharma</td>\n",
              "      <td>Infomercial</td>\n",
              "      <td>Male</td>\n",
              "      <td>40</td>\n",
              "      <td>Primetime</td>\n",
              "      <td>United-States</td>\n",
              "      <td>0.027465</td>\n",
              "      <td>Low</td>\n",
              "      <td>No</td>\n",
              "    </tr>\n",
              "    <tr>\n",
              "      <th>4</th>\n",
              "      <td>10</td>\n",
              "      <td>Married-civ-spouse</td>\n",
              "      <td>Pharma</td>\n",
              "      <td>Comedy</td>\n",
              "      <td>Male</td>\n",
              "      <td>40</td>\n",
              "      <td>Primetime</td>\n",
              "      <td>United-States</td>\n",
              "      <td>0.027465</td>\n",
              "      <td>Low</td>\n",
              "      <td>Yes</td>\n",
              "    </tr>\n",
              "    <tr>\n",
              "      <th>...</th>\n",
              "      <td>...</td>\n",
              "      <td>...</td>\n",
              "      <td>...</td>\n",
              "      <td>...</td>\n",
              "      <td>...</td>\n",
              "      <td>...</td>\n",
              "      <td>...</td>\n",
              "      <td>...</td>\n",
              "      <td>...</td>\n",
              "      <td>...</td>\n",
              "      <td>...</td>\n",
              "    </tr>\n",
              "    <tr>\n",
              "      <th>6508</th>\n",
              "      <td>32538</td>\n",
              "      <td>Never-married</td>\n",
              "      <td>Political</td>\n",
              "      <td>Comedy</td>\n",
              "      <td>Male</td>\n",
              "      <td>40</td>\n",
              "      <td>Morning</td>\n",
              "      <td>United-States</td>\n",
              "      <td>0.027465</td>\n",
              "      <td>High</td>\n",
              "      <td>No</td>\n",
              "    </tr>\n",
              "    <tr>\n",
              "      <th>6509</th>\n",
              "      <td>32542</td>\n",
              "      <td>Never-married</td>\n",
              "      <td>Political</td>\n",
              "      <td>Comedy</td>\n",
              "      <td>Male</td>\n",
              "      <td>80</td>\n",
              "      <td>Morning</td>\n",
              "      <td>United-States</td>\n",
              "      <td>0.027465</td>\n",
              "      <td>Low</td>\n",
              "      <td>No</td>\n",
              "    </tr>\n",
              "    <tr>\n",
              "      <th>6510</th>\n",
              "      <td>32549</td>\n",
              "      <td>Never-married</td>\n",
              "      <td>Political</td>\n",
              "      <td>Comedy</td>\n",
              "      <td>Male</td>\n",
              "      <td>40</td>\n",
              "      <td>Morning</td>\n",
              "      <td>United-States</td>\n",
              "      <td>0.027465</td>\n",
              "      <td>High</td>\n",
              "      <td>No</td>\n",
              "    </tr>\n",
              "    <tr>\n",
              "      <th>6511</th>\n",
              "      <td>32558</td>\n",
              "      <td>Married-civ-spouse</td>\n",
              "      <td>Pharma</td>\n",
              "      <td>Comedy</td>\n",
              "      <td>Male</td>\n",
              "      <td>40</td>\n",
              "      <td>Primetime</td>\n",
              "      <td>United-States</td>\n",
              "      <td>0.027465</td>\n",
              "      <td>High</td>\n",
              "      <td>Yes</td>\n",
              "    </tr>\n",
              "    <tr>\n",
              "      <th>6512</th>\n",
              "      <td>32560</td>\n",
              "      <td>Married-civ-spouse</td>\n",
              "      <td>Pharma</td>\n",
              "      <td>Infomercial</td>\n",
              "      <td>Male</td>\n",
              "      <td>40</td>\n",
              "      <td>Primetime</td>\n",
              "      <td>United-States</td>\n",
              "      <td>0.027465</td>\n",
              "      <td>High</td>\n",
              "      <td>No</td>\n",
              "    </tr>\n",
              "  </tbody>\n",
              "</table>\n",
              "<p>6513 rows × 11 columns</p>\n",
              "</div>"
            ],
            "text/plain": [
              "         id realtionship_status  ... expensive money_back_guarantee\n",
              "0         1             Widowed  ...       Low                   No\n",
              "1         4  Married-civ-spouse  ...      High                  Yes\n",
              "2         5            Divorced  ...       Low                   No\n",
              "3         9  Married-civ-spouse  ...       Low                   No\n",
              "4        10  Married-civ-spouse  ...       Low                  Yes\n",
              "...     ...                 ...  ...       ...                  ...\n",
              "6508  32538       Never-married  ...      High                   No\n",
              "6509  32542       Never-married  ...       Low                   No\n",
              "6510  32549       Never-married  ...      High                   No\n",
              "6511  32558  Married-civ-spouse  ...      High                  Yes\n",
              "6512  32560  Married-civ-spouse  ...      High                   No\n",
              "\n",
              "[6513 rows x 11 columns]"
            ]
          },
          "metadata": {
            "tags": []
          },
          "execution_count": 16
        }
      ]
    },
    {
      "cell_type": "code",
      "metadata": {
        "id": "IeU_qpRUyZB8",
        "colab_type": "code",
        "outputId": "f2dbc445-4331-4fb0-afc9-f202eb75c1f8",
        "colab": {
          "base_uri": "https://localhost:8080/",
          "height": 195
        }
      },
      "source": [
        "import numpy as np\n",
        "np.unique(model.predict(testing.iloc[:,1:].values),return_counts=True)\n",
        "# testing.iloc[0]"
      ],
      "execution_count": 0,
      "outputs": [
        {
          "output_type": "error",
          "ename": "NameError",
          "evalue": "ignored",
          "traceback": [
            "\u001b[0;31m---------------------------------------------------------------------------\u001b[0m",
            "\u001b[0;31mNameError\u001b[0m                                 Traceback (most recent call last)",
            "\u001b[0;32m<ipython-input-23-f5f35f01321e>\u001b[0m in \u001b[0;36m<module>\u001b[0;34m()\u001b[0m\n\u001b[1;32m      1\u001b[0m \u001b[0;32mimport\u001b[0m \u001b[0mnumpy\u001b[0m \u001b[0;32mas\u001b[0m \u001b[0mnp\u001b[0m\u001b[0;34m\u001b[0m\u001b[0;34m\u001b[0m\u001b[0m\n\u001b[0;32m----> 2\u001b[0;31m \u001b[0mnp\u001b[0m\u001b[0;34m.\u001b[0m\u001b[0munique\u001b[0m\u001b[0;34m(\u001b[0m\u001b[0mmodel\u001b[0m\u001b[0;34m.\u001b[0m\u001b[0mpredict\u001b[0m\u001b[0;34m(\u001b[0m\u001b[0mtesting\u001b[0m\u001b[0;34m.\u001b[0m\u001b[0miloc\u001b[0m\u001b[0;34m[\u001b[0m\u001b[0;34m:\u001b[0m\u001b[0;34m,\u001b[0m\u001b[0;36m1\u001b[0m\u001b[0;34m:\u001b[0m\u001b[0;34m]\u001b[0m\u001b[0;34m.\u001b[0m\u001b[0mvalues\u001b[0m\u001b[0;34m)\u001b[0m\u001b[0;34m,\u001b[0m\u001b[0mreturn_counts\u001b[0m\u001b[0;34m=\u001b[0m\u001b[0;32mTrue\u001b[0m\u001b[0;34m)\u001b[0m\u001b[0;34m\u001b[0m\u001b[0;34m\u001b[0m\u001b[0m\n\u001b[0m\u001b[1;32m      3\u001b[0m \u001b[0;31m# testing.iloc[0]\u001b[0m\u001b[0;34m\u001b[0m\u001b[0;34m\u001b[0m\u001b[0;34m\u001b[0m\u001b[0m\n",
            "\u001b[0;31mNameError\u001b[0m: name 'model' is not defined"
          ]
        }
      ]
    },
    {
      "cell_type": "code",
      "metadata": {
        "id": "g-SC8hJ7uC7T",
        "colab_type": "code",
        "outputId": "158ef3a2-090e-439b-8bc7-10d29115b7f6",
        "colab": {
          "base_uri": "https://localhost:8080/",
          "height": 34
        }
      },
      "source": [
        "import numpy as np\n",
        "def out(one,two,three,row):\n",
        "  l = []\n",
        "  l.append(one.predict(row)[0])\n",
        "  l.append(two.predict(row)[0])\n",
        "  l.append(three.predict(row)[0])\n",
        "  val,count = np.unique(l,return_counts=True)\n",
        "  return val[np.argmax(count)]\n",
        "\n",
        "al =[]\n",
        "\n",
        "for i,row in testing.iloc[:,1:].iterrows():\n",
        "  # row = scale.transform([row])\n",
        "  # print(row)\n",
        "  al.append(cat.predict([row])[0])\n",
        "\n",
        "np.unique(al,return_counts=True)"
      ],
      "execution_count": 0,
      "outputs": [
        {
          "output_type": "execute_result",
          "data": {
            "text/plain": [
              "(array([0., 1.]), array([5468, 1045]))"
            ]
          },
          "metadata": {
            "tags": []
          },
          "execution_count": 29
        }
      ]
    },
    {
      "cell_type": "code",
      "metadata": {
        "id": "902xTrteu2zP",
        "colab_type": "code",
        "colab": {}
      },
      "source": [
        "pd.DataFrame(data=list(zip(testing.id,al)),columns=[\"id\",\"netgain\"],index=None).to_csv(\"submission.csv\",index=None)"
      ],
      "execution_count": 0,
      "outputs": []
    },
    {
      "cell_type": "code",
      "metadata": {
        "id": "YNGUkruHy8Pe",
        "colab_type": "code",
        "colab": {}
      },
      "source": [
        ""
      ],
      "execution_count": 0,
      "outputs": []
    },
    {
      "cell_type": "markdown",
      "metadata": {
        "id": "g_F-mqY4rtc8",
        "colab_type": "text"
      },
      "source": [
        "#Neural Network"
      ]
    },
    {
      "cell_type": "code",
      "metadata": {
        "id": "ZsMjEOTor2nn",
        "colab_type": "code",
        "colab": {}
      },
      "source": [
        "from keras.layers import Dropout,Dense,Input , Conv1D , MaxPool1D , Activation , BatchNormalization , RepeatVector,Flatten\n",
        "from keras.models import Model\n",
        "from keras.utils import to_categorical"
      ],
      "execution_count": 0,
      "outputs": []
    },
    {
      "cell_type": "code",
      "metadata": {
        "id": "m4KUwNxiN_R2",
        "colab_type": "code",
        "colab": {}
      },
      "source": [
        "x = data.drop([\"id\",\"netgain\"],axis=1)\n",
        "y= data[[\"netgain\"]]"
      ],
      "execution_count": 0,
      "outputs": []
    },
    {
      "cell_type": "code",
      "metadata": {
        "id": "-q-ae0ehPWlh",
        "colab_type": "code",
        "colab": {}
      },
      "source": [
        "y=to_categorical(y)"
      ],
      "execution_count": 0,
      "outputs": []
    },
    {
      "cell_type": "code",
      "metadata": {
        "id": "W3tWJzNxIfDX",
        "colab_type": "code",
        "colab": {}
      },
      "source": [
        "from sklearn.preprocessing import MinMaxScaler\n",
        "scale = MinMaxScaler()\n",
        "scale.fit(x)\n",
        "x_train,x_test,y_train,y_test = train_test_split(x,y,test_size=0.2)\n",
        "neural_x_train = scale.transform(x_train)\n",
        "neural_x_test = scale.transform(x_test)"
      ],
      "execution_count": 0,
      "outputs": []
    },
    {
      "cell_type": "code",
      "metadata": {
        "id": "T2esmAeBsJA1",
        "colab_type": "code",
        "colab": {}
      },
      "source": [
        "input = Input(shape=(10,))\n",
        "output = RepeatVector(10)(input)\n",
        "output = Conv1D(filters=2,kernel_size=2)(output)\n",
        "output = MaxPool1D()(output)\n",
        "output = Conv1D(filters=2,kernel_size=2)(output)\n",
        "output = MaxPool1D()(output)\n",
        "output = Flatten()(output)\n",
        "output = Dense(64)(output)\n",
        "batch = BatchNormalization()(output)\n",
        "output = Dense(32)(batch)\n",
        "batch = BatchNormalization()(output)\n",
        "output = Dense(16)(output)\n",
        "output = Dropout(0.2)(output)\n",
        "batch = BatchNormalization()(output)\n",
        "output = Dense(4)(output)\n",
        "batch = BatchNormalization()(output)\n",
        "output = Dense(2,activation=\"sigmoid\")(output)"
      ],
      "execution_count": 0,
      "outputs": []
    },
    {
      "cell_type": "code",
      "metadata": {
        "id": "Vo-F4mcos-Xn",
        "colab_type": "code",
        "outputId": "d93c44f9-4a32-46c3-bc42-2f52e80a28d9",
        "colab": {
          "base_uri": "https://localhost:8080/",
          "height": 675
        }
      },
      "source": [
        "model = Model(input = input , output=output)\n",
        "model.summary()\n"
      ],
      "execution_count": 0,
      "outputs": [
        {
          "output_type": "stream",
          "text": [
            "Model: \"model_11\"\n",
            "_________________________________________________________________\n",
            "Layer (type)                 Output Shape              Param #   \n",
            "=================================================================\n",
            "input_14 (InputLayer)        (None, 10)                0         \n",
            "_________________________________________________________________\n",
            "repeat_vector_10 (RepeatVect (None, 10, 10)            0         \n",
            "_________________________________________________________________\n",
            "conv1d_11 (Conv1D)           (None, 9, 2)              42        \n",
            "_________________________________________________________________\n",
            "max_pooling1d_10 (MaxPooling (None, 4, 2)              0         \n",
            "_________________________________________________________________\n",
            "conv1d_12 (Conv1D)           (None, 3, 2)              10        \n",
            "_________________________________________________________________\n",
            "max_pooling1d_11 (MaxPooling (None, 1, 2)              0         \n",
            "_________________________________________________________________\n",
            "flatten_4 (Flatten)          (None, 2)                 0         \n",
            "_________________________________________________________________\n",
            "dense_44 (Dense)             (None, 64)                192       \n",
            "_________________________________________________________________\n",
            "batch_normalization_35 (Batc (None, 64)                256       \n",
            "_________________________________________________________________\n",
            "dense_45 (Dense)             (None, 32)                2080      \n",
            "_________________________________________________________________\n",
            "dense_46 (Dense)             (None, 16)                528       \n",
            "_________________________________________________________________\n",
            "dropout_9 (Dropout)          (None, 16)                0         \n",
            "_________________________________________________________________\n",
            "dense_47 (Dense)             (None, 4)                 68        \n",
            "_________________________________________________________________\n",
            "dense_48 (Dense)             (None, 2)                 10        \n",
            "=================================================================\n",
            "Total params: 3,186\n",
            "Trainable params: 3,058\n",
            "Non-trainable params: 128\n",
            "_________________________________________________________________\n"
          ],
          "name": "stdout"
        },
        {
          "output_type": "stream",
          "text": [
            "/usr/local/lib/python3.6/dist-packages/ipykernel_launcher.py:1: UserWarning: Update your `Model` call to the Keras 2 API: `Model(inputs=Tensor(\"in..., outputs=Tensor(\"de...)`\n",
            "  \"\"\"Entry point for launching an IPython kernel.\n"
          ],
          "name": "stderr"
        }
      ]
    },
    {
      "cell_type": "code",
      "metadata": {
        "id": "hBHmcA10tDAj",
        "colab_type": "code",
        "outputId": "f643d5e3-9c1e-4c28-b9fe-c228f273cb37",
        "colab": {
          "base_uri": "https://localhost:8080/",
          "height": 874
        }
      },
      "source": [
        "model.compile(loss=\"categorical_crossentropy\",metrics=[\"acc\"],optimizer=\"adam\")\n",
        "model.fit(x,y,epochs=25,verbose=1,batch_size=32)"
      ],
      "execution_count": 0,
      "outputs": [
        {
          "output_type": "stream",
          "text": [
            "Epoch 1/25\n",
            "26048/26048 [==============================] - 7s 277us/step - loss: 0.4884 - acc: 0.7557\n",
            "Epoch 2/25\n",
            "26048/26048 [==============================] - 6s 213us/step - loss: 0.4629 - acc: 0.7683\n",
            "Epoch 3/25\n",
            "26048/26048 [==============================] - 6s 218us/step - loss: 0.4539 - acc: 0.7736\n",
            "Epoch 4/25\n",
            "26048/26048 [==============================] - 5s 210us/step - loss: 0.4514 - acc: 0.7786\n",
            "Epoch 5/25\n",
            "26048/26048 [==============================] - 5s 210us/step - loss: 0.4439 - acc: 0.7836\n",
            "Epoch 6/25\n",
            "26048/26048 [==============================] - 5s 207us/step - loss: 0.4395 - acc: 0.7869\n",
            "Epoch 7/25\n",
            "26048/26048 [==============================] - 5s 209us/step - loss: 0.4333 - acc: 0.7899\n",
            "Epoch 8/25\n",
            "26048/26048 [==============================] - 5s 207us/step - loss: 0.4325 - acc: 0.7914\n",
            "Epoch 9/25\n",
            "26048/26048 [==============================] - 5s 210us/step - loss: 0.4333 - acc: 0.7896\n",
            "Epoch 10/25\n",
            "26048/26048 [==============================] - 6s 212us/step - loss: 0.4322 - acc: 0.7928\n",
            "Epoch 11/25\n",
            "26048/26048 [==============================] - 5s 209us/step - loss: 0.4304 - acc: 0.7907\n",
            "Epoch 12/25\n",
            "26048/26048 [==============================] - 5s 209us/step - loss: 0.4308 - acc: 0.7935\n",
            "Epoch 13/25\n",
            "26048/26048 [==============================] - 5s 210us/step - loss: 0.4288 - acc: 0.7933\n",
            "Epoch 14/25\n",
            "26048/26048 [==============================] - 5s 206us/step - loss: 0.4329 - acc: 0.7930\n",
            "Epoch 15/25\n",
            "26048/26048 [==============================] - 5s 208us/step - loss: 0.4313 - acc: 0.7922\n",
            "Epoch 16/25\n",
            "26048/26048 [==============================] - 5s 207us/step - loss: 0.4276 - acc: 0.7950\n",
            "Epoch 17/25\n",
            "26048/26048 [==============================] - 5s 206us/step - loss: 0.4311 - acc: 0.7922\n",
            "Epoch 18/25\n",
            "26048/26048 [==============================] - 5s 204us/step - loss: 0.4279 - acc: 0.7947\n",
            "Epoch 19/25\n",
            "26048/26048 [==============================] - 5s 206us/step - loss: 0.4296 - acc: 0.7948\n",
            "Epoch 20/25\n",
            "26048/26048 [==============================] - 5s 206us/step - loss: 0.4300 - acc: 0.7921\n",
            "Epoch 21/25\n",
            "26048/26048 [==============================] - 5s 207us/step - loss: 0.4269 - acc: 0.7956\n",
            "Epoch 22/25\n",
            "26048/26048 [==============================] - 5s 206us/step - loss: 0.4276 - acc: 0.7953\n",
            "Epoch 23/25\n",
            "26048/26048 [==============================] - 5s 204us/step - loss: 0.4262 - acc: 0.7949\n",
            "Epoch 24/25\n",
            "26048/26048 [==============================] - 5s 204us/step - loss: 0.4259 - acc: 0.7937\n",
            "Epoch 25/25\n",
            "26048/26048 [==============================] - 5s 206us/step - loss: 0.4262 - acc: 0.7948\n"
          ],
          "name": "stdout"
        },
        {
          "output_type": "execute_result",
          "data": {
            "text/plain": [
              "<keras.callbacks.History at 0x7ff9fee93e10>"
            ]
          },
          "metadata": {
            "tags": []
          },
          "execution_count": 99
        }
      ]
    },
    {
      "cell_type": "code",
      "metadata": {
        "id": "QVLfTb1Z3M02",
        "colab_type": "code",
        "outputId": "c71e9cd4-d27e-4a19-898b-ace39d662ff1",
        "colab": {
          "base_uri": "https://localhost:8080/",
          "height": 50
        }
      },
      "source": [
        "_,accuracy = model.evaluate(neural_x_test,y_test)\n",
        "_,accuracy  "
      ],
      "execution_count": 0,
      "outputs": [
        {
          "output_type": "stream",
          "text": [
            "5210/5210 [==============================] - 1s 165us/step\n"
          ],
          "name": "stdout"
        },
        {
          "output_type": "execute_result",
          "data": {
            "text/plain": [
              "(1.2328863332916815, 0.7702495200849083)"
            ]
          },
          "metadata": {
            "tags": []
          },
          "execution_count": 100
        }
      ]
    },
    {
      "cell_type": "code",
      "metadata": {
        "id": "fbIuyuV6OxBr",
        "colab_type": "code",
        "outputId": "e6d8aa16-f795-4360-c999-7450305381df",
        "colab": {
          "base_uri": "https://localhost:8080/",
          "height": 185
        }
      },
      "source": [
        "model.predict(testing.iloc[:10,1:])"
      ],
      "execution_count": 0,
      "outputs": [
        {
          "output_type": "execute_result",
          "data": {
            "text/plain": [
              "array([[0.98055536, 0.00588229],\n",
              "       [0.78692436, 0.2334266 ],\n",
              "       [0.9654776 , 0.03533936],\n",
              "       [0.8898759 , 0.25118876],\n",
              "       [0.84364426, 0.25463128],\n",
              "       [0.84118736, 0.03727129],\n",
              "       [0.7339128 , 0.07850137],\n",
              "       [0.9133587 , 0.06512684],\n",
              "       [0.94811225, 0.04615781],\n",
              "       [0.9652698 , 0.04894671]], dtype=float32)"
            ]
          },
          "metadata": {
            "tags": []
          },
          "execution_count": 101
        }
      ]
    },
    {
      "cell_type": "code",
      "metadata": {
        "id": "G-FoxqyTt0wl",
        "colab_type": "code",
        "outputId": "321a76c6-61d6-435e-e85d-7d39ee0436f8",
        "colab": {
          "base_uri": "https://localhost:8080/",
          "height": 67
        }
      },
      "source": [
        "al =[]\n",
        "\n",
        "for i,row in testing.iloc[:,1:].iterrows():\n",
        "  row = scale.transform([row])\n",
        "  al.append(model.predict(row)[0])\n",
        "\n",
        "import numpy as np\n",
        "np.unique(al,return_counts=True)"
      ],
      "execution_count": 0,
      "outputs": [
        {
          "output_type": "execute_result",
          "data": {
            "text/plain": [
              "(array([0.0000000e+00, 1.9101924e-04, 1.0775853e-03, ..., 9.9276102e-01,\n",
              "        9.9302894e-01, 9.9329668e-01], dtype=float32),\n",
              " array([38,  1,  1, ...,  1,  1,  1]))"
            ]
          },
          "metadata": {
            "tags": []
          },
          "execution_count": 102
        }
      ]
    },
    {
      "cell_type": "code",
      "metadata": {
        "id": "R6M0wtl6uAbl",
        "colab_type": "code",
        "outputId": "82e7f47f-3504-4819-cfde-6455965bdb2f",
        "colab": {
          "base_uri": "https://localhost:8080/",
          "height": 34
        }
      },
      "source": [
        "import numpy as np\n",
        "\n",
        "np.unique(np.argmax(model.predict(testing.iloc[:,1:].values),axis=1),return_counts=True)"
      ],
      "execution_count": 0,
      "outputs": [
        {
          "output_type": "execute_result",
          "data": {
            "text/plain": [
              "(array([0, 1]), array([6292,  221]))"
            ]
          },
          "metadata": {
            "tags": []
          },
          "execution_count": 103
        }
      ]
    },
    {
      "cell_type": "code",
      "metadata": {
        "id": "jCCC_oa8vV2A",
        "colab_type": "code",
        "outputId": "489026d4-f17f-465c-96bb-9b4336a8b96c",
        "colab": {
          "base_uri": "https://localhost:8080/",
          "height": 34
        }
      },
      "source": [
        "np.unique(np.argmax(al,axis=1),return_counts=True)"
      ],
      "execution_count": 0,
      "outputs": [
        {
          "output_type": "execute_result",
          "data": {
            "text/plain": [
              "(array([0, 1]), array([6465,   48]))"
            ]
          },
          "metadata": {
            "tags": []
          },
          "execution_count": 104
        }
      ]
    },
    {
      "cell_type": "code",
      "metadata": {
        "id": "YYuJygQ6zAVW",
        "colab_type": "code",
        "colab": {}
      },
      "source": [
        "al = np.argmax(al,axis=1)"
      ],
      "execution_count": 0,
      "outputs": []
    },
    {
      "cell_type": "code",
      "metadata": {
        "id": "I8HAxcd6ynbk",
        "colab_type": "code",
        "colab": {}
      },
      "source": [
        "pd.DataFrame(data=list(zip(testing.id,al)),columns=[\"id\",\"netgain\"],index=None).to_csv(\"submission.csv\",index=None)"
      ],
      "execution_count": 0,
      "outputs": []
    },
    {
      "cell_type": "code",
      "metadata": {
        "id": "x7BBKOY2zCDz",
        "colab_type": "code",
        "colab": {}
      },
      "source": [
        ""
      ],
      "execution_count": 0,
      "outputs": []
    }
  ]
}